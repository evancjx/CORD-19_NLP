{
 "cells": [
  {
   "cell_type": "markdown",
   "metadata": {
    "colab_type": "text",
    "id": "haKIC2dMLprZ"
   },
   "source": [
    "### Initalize Script\n",
    "If you're running this script on Google Colab<br>\n",
    "Mount your Google drive: \n",
    "1. Click on the folder icon on the left\n",
    "2. Click Mount Drive\n",
    "3. The root directory would be /content/\n",
    "```\n",
    "# your Google Drive folder would be at:\n",
    "/content/drive/My Drive/\n",
    "```\n",
    "\n",
    "Change working directory:<br>\n",
    "1. Run this command:\n",
    "```\n",
    "%cd /content/drive/My Drive/<your folder>\n",
    "```"
   ]
  },
  {
   "cell_type": "code",
   "execution_count": null,
   "metadata": {
    "colab": {
     "base_uri": "https://localhost:8080/",
     "height": 126
    },
    "colab_type": "code",
    "executionInfo": {
     "elapsed": 72778,
     "status": "ok",
     "timestamp": 1591888141416,
     "user": {
      "displayName": "Evan Chang",
      "photoUrl": "https://lh3.googleusercontent.com/a-/AOh14GhLwuv1HrLfJCuFO3Jv9_dkRwGwd90aHRAVsWIh7Q=s64",
      "userId": "01810893482679501710"
     },
     "user_tz": -480
    },
    "id": "U6zF_gdfx98x",
    "outputId": "1a77661f-b0d3-4aac-cd90-7807d2e7a7cb"
   },
   "outputs": [],
   "source": [
    "from google.colab import drive\n",
    "drive.mount('/content/drive')"
   ]
  },
  {
   "cell_type": "code",
   "execution_count": null,
   "metadata": {
    "colab": {
     "base_uri": "https://localhost:8080/",
     "height": 35
    },
    "colab_type": "code",
    "executionInfo": {
     "elapsed": 72545,
     "status": "ok",
     "timestamp": 1591888142044,
     "user": {
      "displayName": "Evan Chang",
      "photoUrl": "https://lh3.googleusercontent.com/a-/AOh14GhLwuv1HrLfJCuFO3Jv9_dkRwGwd90aHRAVsWIh7Q=s64",
      "userId": "01810893482679501710"
     },
     "user_tz": -480
    },
    "id": "yizVYgqQS-nh",
    "outputId": "c0c3e651-a129-4517-bee0-9584b0d40294"
   },
   "outputs": [],
   "source": [
    "%cd /content/drive/My Drive/Data Science/Covid-19"
   ]
  },
  {
   "cell_type": "markdown",
   "metadata": {
    "colab_type": "text",
    "id": "3GdhCff4x6o0"
   },
   "source": [
    "## Load NLP functions"
   ]
  },
  {
   "cell_type": "code",
   "execution_count": null,
   "metadata": {
    "colab": {
     "base_uri": "https://localhost:8080/",
     "height": 53
    },
    "colab_type": "code",
    "executionInfo": {
     "elapsed": 76543,
     "status": "ok",
     "timestamp": 1591888147951,
     "user": {
      "displayName": "Evan Chang",
      "photoUrl": "https://lh3.googleusercontent.com/a-/AOh14GhLwuv1HrLfJCuFO3Jv9_dkRwGwd90aHRAVsWIh7Q=s64",
      "userId": "01810893482679501710"
     },
     "user_tz": -480
    },
    "id": "JLvb7VRZx6o0",
    "outputId": "e5c3fc79-6fbf-461b-f798-1535e43ccdf5"
   },
   "outputs": [],
   "source": [
    "from src.text_preprocessing import spacy_NLP\n",
    "spacy_tokenizer = spacy_NLP('en_core_web_sm').tokenize\n",
    "\n",
    "# from src.text_preprocessing import nltk_NLP\n",
    "# from nltk.stem.porter import PorterStemmer\n",
    "# from nltk.stem.wordnet import WordNetLemmatizer\n",
    "# nlp_tokenizer = nltk_NLP().tokenize_API()\n",
    "# nlp_tokenizer = nltk_NLP(stemming=PorterStemmer, lemmatisation=WordNetLemmatizer).tokenize()\n",
    "\n",
    "from src.text_preprocessing import STOP_WORDS, text_preprocess\n",
    "text_prep = lambda text: text_preprocess(text, tokenizer=spacy_tokenizer, stopwords=STOP_WORDS)"
   ]
  },
  {
   "cell_type": "markdown",
   "metadata": {
    "colab_type": "text",
    "id": "JoqEo-JRThB3"
   },
   "source": [
    "## Prepare and Pre-process Dataset"
   ]
  },
  {
   "cell_type": "markdown",
   "metadata": {
    "colab_type": "text",
    "id": "_7tNcPYnx6os"
   },
   "source": [
    "### Read all\n",
    "Each paper are in json format"
   ]
  },
  {
   "cell_type": "code",
   "execution_count": null,
   "metadata": {
    "colab": {},
    "colab_type": "code",
    "id": "u8rv5kB3x6ot"
   },
   "outputs": [],
   "source": [
    "%%time\n",
    "from src.covid_19_tp import authors_name, body_text, format_bib\n",
    "\n",
    "from os import walk as dir_list\n",
    "from tqdm import tqdm\n",
    "import json\n",
    "\n",
    "src_folder = 'raw_data/comm_use_subset'\n",
    "data = [\n",
    "    {\n",
    "        'paper_id': file['paper_id'],\n",
    "        'title': file['metadata']['title'],\n",
    "        'authors': authors_name(file['metadata']['authors'], affiliation=True),\n",
    "\n",
    "        'abstract': body_text(file['abstract']),\n",
    "        'text': body_text(file['body_text']),\n",
    "\n",
    "        'bibliography': format_bib(file['bib_entries'])\n",
    "    }\n",
    "    for subdir, dirs, files in dir_list(f'./{src_folder}')\n",
    "    for file in tqdm(\n",
    "        [\n",
    "            json.load(open(f'{subdir}/{file}'))\n",
    "            for file in tqdm(files, desc=f'Loading all files in {subdir}')\n",
    "        ], desc=f'Reading individual files in {subdir}'\n",
    "    )\n",
    "]\n",
    "\n",
    "import pandas as pd\n",
    "data = pd.DataFrame(data)\n",
    "\n",
    "# Save dataset to pickle for faster loading in the future\n",
    "from src.helper import pickle_dump\n",
    "filename = '_'.join(src_folder.split('/'))\n",
    "des_folder = 'processed_data'\n",
    "pickle_dump(f'{des_folder}/{filename}_df.pkl', data)"
   ]
  },
  {
   "cell_type": "markdown",
   "metadata": {
    "colab_type": "text",
    "id": "6gg2uqh2x6o2"
   },
   "source": [
    "### Create Corpus from dataset\n",
    "Save the corpus as pickle file to save time in the future; Load the pickle file"
   ]
  },
  {
   "cell_type": "code",
   "execution_count": null,
   "metadata": {
    "colab": {},
    "colab_type": "code",
    "id": "2KiMHV5-x6o3"
   },
   "outputs": [],
   "source": [
    "from src.text_preprocessing import STOP_WORDS, text_preprocess\n",
    "from tqdm import tqdm\n",
    "corpus = [\n",
    "    text_preprocess(text, tokenizer=spacy_tokenizer, stopwords=STOP_WORDS)\n",
    "    for text in tqdm(list(data['title'] + ' ' + data['abstract'] + ' ' + data['text']))\n",
    "]\n",
    "\n",
    "from src.helper import pickle_dump\n",
    "filename = '_'.join(src_folder.split('/'))\n",
    "folder = 'processed_data'\n",
    "pickle_dump(f'./{folder}/{filename}_corpus.pkl', corpus)"
   ]
  },
  {
   "cell_type": "markdown",
   "metadata": {
    "colab_type": "text",
    "id": "QhzSV1FKB2SS"
   },
   "source": [
    "### Get keywords for each document"
   ]
  },
  {
   "cell_type": "code",
   "execution_count": null,
   "metadata": {
    "colab": {},
    "colab_type": "code",
    "id": "-VdzdSaDB18A"
   },
   "outputs": [],
   "source": [
    "data = data.reindex(columns=list(data.columns)+['keywords'])\n",
    "\n",
    "import pandas as pd\n",
    "from tqdm import tqdm\n",
    "tqdm.pandas()\n",
    "data['keywords'] = pd.Series(corpus).progress_apply(\n",
    "    lambda doc: tfidf.doc_keywords(doc, 20)\n",
    ")\n",
    "\n",
    "from src.helper import pickle_dump\n",
    "folder = 'processed_data'\n",
    "filename = 'raw_data_comm_use_subset_df_keyword'\n",
    "pickle_dump(f'./{folder}/{filename}.pkl', data)"
   ]
  },
  {
   "cell_type": "markdown",
   "metadata": {
    "colab_type": "text",
    "id": "9EUEAt_-E7Dv"
   },
   "source": [
    "### Conduct BM25 on corpus"
   ]
  },
  {
   "cell_type": "code",
   "execution_count": null,
   "metadata": {
    "colab": {},
    "colab_type": "code",
    "id": "NEolFja7E6Yk"
   },
   "outputs": [],
   "source": [
    "from src.bm25 import BM25\n",
    "bm25 = BM25(corpus)"
   ]
  },
  {
   "cell_type": "markdown",
   "metadata": {
    "colab_type": "text",
    "id": "SdpuRLKnx6o5"
   },
   "source": [
    "## Load all pre-saved objects"
   ]
  },
  {
   "cell_type": "code",
   "execution_count": null,
   "metadata": {
    "colab": {},
    "colab_type": "code",
    "id": "XltVaedcRjby"
   },
   "outputs": [],
   "source": [
    "from src.helper import pickle_load\n",
    "# filepath = 'processed_data/raw_data_comm_use_subset_df.pkl'\n",
    "# data = pickle_load(filepath)\n",
    "\n",
    "filepath = 'processed_data/raw_data_comm_use_subset_corpus.pkl'\n",
    "corpus = pickle_load(filepath)\n",
    "\n",
    "filepath = 'processed_data/raw_data_comm_use_subset_df_keyword.pkl'\n",
    "data = pickle_load(filepath)"
   ]
  },
  {
   "cell_type": "markdown",
   "metadata": {
    "colab_type": "text",
    "id": "B7Fw7XbJx6o8"
   },
   "source": [
    "### Conduct TF-IDF\n",
    "corpus_doc_tfidf: list of td-idf scores (terms: score) of each documents<br>\n",
    "score:<br>\n",
    "> Low = frequent terms<br>\n",
    "> High = rare terms<br>\n",
    "\n",
    "```\n",
    "tfidf.corpus_doc_tfidf[:1]\n",
    "```\n",
    "\n",
    "term_doc_freq: a dict (key: value pairs) of a term and it's count of occurrence in different documents<br>\n",
    "\n",
    "```\n",
    "tfidf.term_df\n",
    "```"
   ]
  },
  {
   "cell_type": "code",
   "execution_count": null,
   "metadata": {
    "colab": {
     "base_uri": "https://localhost:8080/",
     "height": 71
    },
    "colab_type": "code",
    "executionInfo": {
     "elapsed": 30188,
     "status": "ok",
     "timestamp": 1591888175100,
     "user": {
      "displayName": "Evan Chang",
      "photoUrl": "https://lh3.googleusercontent.com/a-/AOh14GhLwuv1HrLfJCuFO3Jv9_dkRwGwd90aHRAVsWIh7Q=s64",
      "userId": "01810893482679501710"
     },
     "user_tz": -480
    },
    "id": "7T9Q1Fh0LAPk",
    "outputId": "75539465-e8ba-46d5-85aa-ded9f192173c"
   },
   "outputs": [],
   "source": [
    "from src.tfidf import TFIDF\n",
    "tfidf = TFIDF(corpus)"
   ]
  },
  {
   "cell_type": "code",
   "execution_count": null,
   "metadata": {
    "colab": {
     "base_uri": "https://localhost:8080/",
     "height": 35
    },
    "colab_type": "code",
    "executionInfo": {
     "elapsed": 81895,
     "status": "ok",
     "timestamp": 1591888227213,
     "user": {
      "displayName": "Evan Chang",
      "photoUrl": "https://lh3.googleusercontent.com/a-/AOh14GhLwuv1HrLfJCuFO3Jv9_dkRwGwd90aHRAVsWIh7Q=s64",
      "userId": "01810893482679501710"
     },
     "user_tz": -480
    },
    "id": "_4rNCqGd66pL",
    "outputId": "679e8d88-67b6-4e1f-a0e5-78f0555b83da"
   },
   "outputs": [],
   "source": [
    "from src.sklearn_tfidf import sklearn_TFIDF\n",
    "sk_tfidf = sklearn_TFIDF(corpus)"
   ]
  },
  {
   "cell_type": "markdown",
   "metadata": {
    "colab_type": "text",
    "id": "QSMC3OMtJjHS"
   },
   "source": [
    "Conduct BM25"
   ]
  },
  {
   "cell_type": "code",
   "execution_count": null,
   "metadata": {
    "colab": {
     "base_uri": "https://localhost:8080/",
     "height": 53
    },
    "colab_type": "code",
    "executionInfo": {
     "elapsed": 87631,
     "status": "ok",
     "timestamp": 1591888235283,
     "user": {
      "displayName": "Evan Chang",
      "photoUrl": "https://lh3.googleusercontent.com/a-/AOh14GhLwuv1HrLfJCuFO3Jv9_dkRwGwd90aHRAVsWIh7Q=s64",
      "userId": "01810893482679501710"
     },
     "user_tz": -480
    },
    "id": "QjjM7068IDI0",
    "outputId": "77fdfcc2-1b08-4dc4-c841-6cbac5734007"
   },
   "outputs": [],
   "source": [
    "from src.bm25 import BM25\n",
    "bm25 = BM25(corpus)"
   ]
  },
  {
   "cell_type": "code",
   "execution_count": null,
   "metadata": {
    "colab": {
     "base_uri": "https://localhost:8080/",
     "height": 53
    },
    "colab_type": "code",
    "executionInfo": {
     "elapsed": 94650,
     "status": "ok",
     "timestamp": 1591888242516,
     "user": {
      "displayName": "Evan Chang",
      "photoUrl": "https://lh3.googleusercontent.com/a-/AOh14GhLwuv1HrLfJCuFO3Jv9_dkRwGwd90aHRAVsWIh7Q=s64",
      "userId": "01810893482679501710"
     },
     "user_tz": -480
    },
    "id": "M9MqMOTFMSlf",
    "outputId": "27690208-043a-4bfa-dee4-e8b14a416970"
   },
   "outputs": [],
   "source": [
    "from src.bm25 import BM25L\n",
    "bm25L = BM25L(corpus)"
   ]
  },
  {
   "cell_type": "code",
   "execution_count": null,
   "metadata": {
    "colab": {
     "base_uri": "https://localhost:8080/",
     "height": 53
    },
    "colab_type": "code",
    "executionInfo": {
     "elapsed": 101326,
     "status": "ok",
     "timestamp": 1591888249475,
     "user": {
      "displayName": "Evan Chang",
      "photoUrl": "https://lh3.googleusercontent.com/a-/AOh14GhLwuv1HrLfJCuFO3Jv9_dkRwGwd90aHRAVsWIh7Q=s64",
      "userId": "01810893482679501710"
     },
     "user_tz": -480
    },
    "id": "NAzMXJTPICk6",
    "outputId": "e841018b-8eb3-46ab-b702-a8133adb9a90"
   },
   "outputs": [],
   "source": [
    "from src.bm25 import BM25plus\n",
    "bm25plus = BM25plus(corpus)"
   ]
  },
  {
   "cell_type": "markdown",
   "metadata": {
    "colab_type": "text",
    "id": "hZSjWOaMx6pF"
   },
   "source": [
    "## Search Relevant Articles based on question"
   ]
  },
  {
   "cell_type": "code",
   "execution_count": null,
   "metadata": {
    "colab": {
     "base_uri": "https://localhost:8080/",
     "height": 1000
    },
    "colab_type": "code",
    "executionInfo": {
     "elapsed": 1071,
     "status": "ok",
     "timestamp": 1591888252343,
     "user": {
      "displayName": "Evan Chang",
      "photoUrl": "https://lh3.googleusercontent.com/a-/AOh14GhLwuv1HrLfJCuFO3Jv9_dkRwGwd90aHRAVsWIh7Q=s64",
      "userId": "01810893482679501710"
     },
     "user_tz": -480
    },
    "id": "zOqvo_PHx6pG",
    "outputId": "09f0bf15-6050-4256-dbf5-76fc34165aee"
   },
   "outputs": [],
   "source": [
    "question_list = [\n",
    "    \"Is the virus transmitted by aerisol, droplets, food, close contact, fecal matter, or water\",\n",
    "    \"How long is the incubation period for the virus\",\n",
    "    \"Can the virus be transmitted asymptomatically or during the incubation period\",\n",
    "    \"What is the quantity of asymptomatic shedding\",\n",
    "    \"How does temperature and humidity affect the tramsmission of 2019-nCoV\",\n",
    "    \"How long can 2019-nCoV remain viable on inanimate, environmental, or common surfaces\",\n",
    "    \"What types of inanimate or environmental surfaces affect transmission, survival, or inactivation of 2019-nCov\",\n",
    "    \"Can the virus be found in nasal discharge, sputum, urine, fecal matter, or blood\",\n",
    "    \"What risk factors contribute to the severity of 2019-nCoV\",\n",
    "    \"How does hypertension affect patients\"\n",
    "]\n",
    "\n",
    "from src.helper import sort_dict\n",
    "from IPython.display import display\n",
    "import pandas as pd\n",
    "\n",
    "for question in question_list[2:3]:\n",
    "    print(question)\n",
    "    question = text_prep(question)\n",
    "\n",
    "    # Based on TFIDF and Dot Product of TFIDF scores\n",
    "    tfidf_result = tfidf.search_similar(question)\n",
    "    \n",
    "    display(\n",
    "        pd.DataFrame(\n",
    "            tfidf_result.values(),\n",
    "            data.iloc[list(tfidf_result.keys())]['title'].values,\n",
    "            columns=['score']\n",
    "        )\n",
    "    )\n",
    "\n",
    "    # Based on sklearn TFIDF and Dot Product of TFIDF scores\n",
    "    sktfidf_result = sk_tfidf.search_similar(question)\n",
    "    display(\n",
    "        pd.DataFrame(\n",
    "            sktfidf_result.values(),\n",
    "            data.iloc[list(sktfidf_result.keys())]['title'].values,\n",
    "            columns=['score']\n",
    "        )\n",
    "    )\n",
    "\n",
    "    # Based on BM25\n",
    "    bm25_result = bm25.get_scores(question)\n",
    "\n",
    "    display(\n",
    "        pd.DataFrame(\n",
    "            bm25_result.values(),\n",
    "            data.iloc[list(bm25_result.keys())]['title'].values,\n",
    "            columns=['score']\n",
    "        )\n",
    "    )\n",
    "\n",
    "    # Based on BM25L\n",
    "    bm25L_result = bm25L.get_scores(question)\n",
    "\n",
    "    display(\n",
    "        pd.DataFrame(\n",
    "            bm25L_result.values(),\n",
    "            data.iloc[list(bm25L_result.keys())]['title'].values,\n",
    "            columns=['score']\n",
    "        )\n",
    "    )\n",
    "\n",
    "    # Based on BM25plus\n",
    "    bm25plus_result = bm25plus.get_scores(question)\n",
    "\n",
    "    display(\n",
    "        pd.DataFrame(\n",
    "            bm25plus_result.values(),\n",
    "            data.iloc[list(bm25plus_result.keys())]['title'].values,\n",
    "            columns=['score']\n",
    "        )\n",
    "    )\n",
    "    break"
   ]
  },
  {
   "cell_type": "code",
   "execution_count": null,
   "metadata": {
    "colab": {},
    "colab_type": "code",
    "id": "VjzyXOF0N1Qv"
   },
   "outputs": [],
   "source": []
  }
 ],
 "metadata": {
  "colab": {
   "collapsed_sections": [
    "JoqEo-JRThB3",
    "_7tNcPYnx6os",
    "6gg2uqh2x6o2",
    "QhzSV1FKB2SS",
    "9EUEAt_-E7Dv"
   ],
   "name": "CORD-19_Retrieve_Relevant.ipynb",
   "provenance": []
  },
  "kernelspec": {
   "display_name": "Python 3",
   "language": "python",
   "name": "python3"
  },
  "language_info": {
   "codemirror_mode": {
    "name": "ipython",
    "version": 3
   },
   "file_extension": ".py",
   "mimetype": "text/x-python",
   "name": "python",
   "nbconvert_exporter": "python",
   "pygments_lexer": "ipython3",
   "version": "3.7.6"
  }
 },
 "nbformat": 4,
 "nbformat_minor": 4
}

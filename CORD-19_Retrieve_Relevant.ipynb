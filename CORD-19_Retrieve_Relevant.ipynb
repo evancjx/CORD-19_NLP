{
 "cells": [
  {
   "cell_type": "markdown",
   "metadata": {
    "colab_type": "text",
    "id": "haKIC2dMLprZ"
   },
   "source": [
    "# 1. Initalize Script"
   ]
  },
  {
   "cell_type": "markdown",
   "metadata": {
    "colab_type": "text",
    "id": "8sXv-t5k-SPZ"
   },
   "source": [
    "If you're running this script on Google Colab<br>\n",
    "Mount your Google drive: \n",
    "1. Click on the folder icon on the left\n",
    "2. Click Mount Drive\n",
    "3. The root directory would be /content/\n",
    "```\n",
    "# your Google Drive folder would be at:\n",
    "/content/drive/My Drive/\n",
    "```\n",
    "\n",
    "Change working directory:<br>\n",
    "1. Run this command:\n",
    "```\n",
    "%cd /content/drive/My Drive/<your folder>\n",
    "```"
   ]
  },
  {
   "cell_type": "code",
   "execution_count": 1,
   "metadata": {
    "colab": {
     "base_uri": "https://localhost:8080/",
     "height": 35
    },
    "colab_type": "code",
    "executionInfo": {
     "elapsed": 811,
     "status": "ok",
     "timestamp": 1592364896076,
     "user": {
      "displayName": "Evan Chang",
      "photoUrl": "https://lh3.googleusercontent.com/a-/AOh14GhLwuv1HrLfJCuFO3Jv9_dkRwGwd90aHRAVsWIh7Q=s64",
      "userId": "01810893482679501710"
     },
     "user_tz": -480
    },
    "id": "yizVYgqQS-nh",
    "outputId": "fe76698b-4b7e-411d-ef31-4abe6614b76d"
   },
   "outputs": [
    {
     "name": "stdout",
     "output_type": "stream",
     "text": [
      "/content/drive/My Drive/Data Science/CORD-19_NLP\n"
     ]
    }
   ],
   "source": [
    "%cd /content/drive/My Drive/Data Science/CORD-19_NLP"
   ]
  },
  {
   "cell_type": "markdown",
   "metadata": {
    "colab_type": "text",
    "id": "3GdhCff4x6o0"
   },
   "source": [
    "# 2. Load NLP functions"
   ]
  },
  {
   "cell_type": "code",
   "execution_count": 2,
   "metadata": {
    "colab": {
     "base_uri": "https://localhost:8080/",
     "height": 53
    },
    "colab_type": "code",
    "executionInfo": {
     "elapsed": 2669,
     "status": "ok",
     "timestamp": 1592364898909,
     "user": {
      "displayName": "Evan Chang",
      "photoUrl": "https://lh3.googleusercontent.com/a-/AOh14GhLwuv1HrLfJCuFO3Jv9_dkRwGwd90aHRAVsWIh7Q=s64",
      "userId": "01810893482679501710"
     },
     "user_tz": -480
    },
    "id": "JLvb7VRZx6o0",
    "outputId": "ebcd406d-ebb5-4b51-bc87-6aabe5c68466"
   },
   "outputs": [
    {
     "name": "stdout",
     "output_type": "stream",
     "text": [
      "[nltk_data] Downloading package stopwords to /root/nltk_data...\n",
      "[nltk_data]   Package stopwords is already up-to-date!\n"
     ]
    }
   ],
   "source": [
    "from src.text_preprocessing import spacy_NLP, STOP_WORDS, text_preprocess\n",
    "text_prep = lambda text: text_preprocess(text, tokenizer=spacy_NLP('en_core_web_sm').tokenize, stopwords=STOP_WORDS)\n",
    "\n",
    "# from src.text_preprocessing import nltk_NLP\n",
    "# from nltk.stem.porter import PorterStemmer\n",
    "# from nltk.stem.wordnet import WordNetLemmatizer\n",
    "# nlp_tokenizer = nltk_NLP().tokenize_API()\n",
    "# nlp_tokenizer = nltk_NLP(stemming=PorterStemmer, lemmatisation=WordNetLemmatizer).tokenize()"
   ]
  },
  {
   "cell_type": "markdown",
   "metadata": {
    "colab_type": "text",
    "id": "JoqEo-JRThB3"
   },
   "source": [
    "# 3. Prepare and Pre-process Dataset"
   ]
  },
  {
   "cell_type": "markdown",
   "metadata": {
    "colab_type": "text",
    "id": "_7tNcPYnx6os"
   },
   "source": [
    "## 3.1. Read all\n",
    "Each paper are in json format"
   ]
  },
  {
   "cell_type": "code",
   "execution_count": null,
   "metadata": {
    "colab": {},
    "colab_type": "code",
    "id": "u8rv5kB3x6ot"
   },
   "outputs": [],
   "source": [
    "%%time\n",
    "from src.covid_19_tp import authors_name, body_text, format_bib\n",
    "\n",
    "from os import walk as dir_list\n",
    "from tqdm import tqdm\n",
    "import json\n",
    "\n",
    "src_folder = 'raw_data/comm_use_subset'\n",
    "data = [\n",
    "    {\n",
    "        'paper_id': file['paper_id'],\n",
    "        'title': file['metadata']['title'],\n",
    "        'authors': authors_name(file['metadata']['authors'], affiliation=True),\n",
    "\n",
    "        'abstract': body_text(file['abstract']),\n",
    "        'text': body_text(file['body_text']),\n",
    "\n",
    "        'bibliography': format_bib(file['bib_entries'])\n",
    "    }\n",
    "    for subdir, dirs, files in dir_list(f'./{src_folder}')\n",
    "    for file in tqdm(\n",
    "        [\n",
    "            json.load(open(f'{subdir}/{file}'))\n",
    "            for file in tqdm(files, desc=f'Loading all files in {subdir}')\n",
    "        ], desc=f'Reading individual files in {subdir}'\n",
    "    )\n",
    "]\n",
    "\n",
    "import pandas as pd\n",
    "data = pd.DataFrame(data)\n",
    "\n",
    "# Save dataset to pickle for faster loading in the future\n",
    "from src.helper import pickle_dump\n",
    "filename = '_'.join(src_folder.split('/'))\n",
    "des_folder = 'processed_data'\n",
    "pickle_dump(f'{des_folder}/{filename}_df.pkl', data)"
   ]
  },
  {
   "cell_type": "markdown",
   "metadata": {
    "colab_type": "text",
    "id": "6gg2uqh2x6o2"
   },
   "source": [
    "## 3.2. Create Corpus from dataset\n",
    "Save the corpus as pickle file to save time in the future; Load the pickle file"
   ]
  },
  {
   "cell_type": "code",
   "execution_count": null,
   "metadata": {
    "colab": {},
    "colab_type": "code",
    "id": "2KiMHV5-x6o3"
   },
   "outputs": [],
   "source": [
    "from tqdm import tqdm\n",
    "corpus = [\n",
    "    text_prep(text)\n",
    "    for text in tqdm(list(data['title'] + ' ' + data['abstract'] + ' ' + data['text']))\n",
    "]\n",
    "\n",
    "from src.helper import pickle_dump\n",
    "filename = '_'.join(src_folder.split('/'))\n",
    "folder = 'processed_data'\n",
    "pickle_dump(f'./{folder}/{filename}_corpus.pkl', corpus)"
   ]
  },
  {
   "cell_type": "markdown",
   "metadata": {
    "colab_type": "text",
    "id": "B7Fw7XbJx6o8"
   },
   "source": [
    "## 3.3. Conduct TF-IDF and BM25\n"
   ]
  },
  {
   "cell_type": "markdown",
   "metadata": {
    "colab_type": "text",
    "id": "Tm8HBLZDd9Bn"
   },
   "source": [
    "### 3.3.1. TFIDF"
   ]
  },
  {
   "cell_type": "markdown",
   "metadata": {
    "colab_type": "text",
    "id": "rXwYPVOZ-Xvv"
   },
   "source": [
    "corpus_doc_tfidf: list of td-idf scores (terms: score) of each documents<br>\n",
    "score:<br>\n",
    "> Low = frequent terms<br>\n",
    "> High = rare terms<br>\n",
    "\n",
    "```\n",
    "tfidf.corpus_doc_tfidf[:1]\n",
    "```\n",
    "\n",
    "term_doc_freq: a dict (key: value pairs) of a term and it's count of occurrence in different documents<br>\n",
    "\n",
    "```\n",
    "tfidf.term_df\n",
    "```"
   ]
  },
  {
   "cell_type": "code",
   "execution_count": 4,
   "metadata": {
    "colab": {
     "base_uri": "https://localhost:8080/",
     "height": 71
    },
    "colab_type": "code",
    "executionInfo": {
     "elapsed": 15838,
     "status": "ok",
     "timestamp": 1592364922655,
     "user": {
      "displayName": "Evan Chang",
      "photoUrl": "https://lh3.googleusercontent.com/a-/AOh14GhLwuv1HrLfJCuFO3Jv9_dkRwGwd90aHRAVsWIh7Q=s64",
      "userId": "01810893482679501710"
     },
     "user_tz": -480
    },
    "id": "7T9Q1Fh0LAPk",
    "outputId": "b0f9827f-db9b-49b6-d710-d6351194867b"
   },
   "outputs": [
    {
     "name": "stderr",
     "output_type": "stream",
     "text": [
      "TF and DF for each term on each document: 100%|██████████| 9315/9315 [00:07<00:00, 1279.63it/s]\n",
      "IDF for each term: 100%|██████████| 181453/181453 [00:00<00:00, 931566.14it/s]\n",
      "TF-IDF on each document: 100%|██████████| 9315/9315 [00:07<00:00, 1303.76it/s]\n"
     ]
    }
   ],
   "source": [
    "from src.tfidf import TFIDF\n",
    "tfidf = TFIDF(corpus)"
   ]
  },
  {
   "cell_type": "code",
   "execution_count": 5,
   "metadata": {
    "colab": {
     "base_uri": "https://localhost:8080/",
     "height": 35
    },
    "colab_type": "code",
    "executionInfo": {
     "elapsed": 65317,
     "status": "ok",
     "timestamp": 1592364972842,
     "user": {
      "displayName": "Evan Chang",
      "photoUrl": "https://lh3.googleusercontent.com/a-/AOh14GhLwuv1HrLfJCuFO3Jv9_dkRwGwd90aHRAVsWIh7Q=s64",
      "userId": "01810893482679501710"
     },
     "user_tz": -480
    },
    "id": "_4rNCqGd66pL",
    "outputId": "83682863-3ba0-4ba2-c7f1-0c67514b2bf2"
   },
   "outputs": [
    {
     "name": "stderr",
     "output_type": "stream",
     "text": [
      "Conduct TFIDF for individual documents: 100%|██████████| 9315/9315 [00:33<00:00, 276.90it/s]\n"
     ]
    }
   ],
   "source": [
    "from src.sklearn_tfidf import sklearn_TFIDF\n",
    "sk_tfidf = sklearn_TFIDF(corpus)"
   ]
  },
  {
   "cell_type": "markdown",
   "metadata": {
    "colab_type": "text",
    "id": "QSMC3OMtJjHS"
   },
   "source": [
    "### 3.3.2. Conduct BM25"
   ]
  },
  {
   "cell_type": "code",
   "execution_count": 6,
   "metadata": {
    "colab": {
     "base_uri": "https://localhost:8080/",
     "height": 53
    },
    "colab_type": "code",
    "executionInfo": {
     "elapsed": 72662,
     "status": "ok",
     "timestamp": 1592364980955,
     "user": {
      "displayName": "Evan Chang",
      "photoUrl": "https://lh3.googleusercontent.com/a-/AOh14GhLwuv1HrLfJCuFO3Jv9_dkRwGwd90aHRAVsWIh7Q=s64",
      "userId": "01810893482679501710"
     },
     "user_tz": -480
    },
    "id": "QjjM7068IDI0",
    "outputId": "883e5f5b-a1de-4f5a-acd7-f873c6f02e02"
   },
   "outputs": [
    {
     "name": "stderr",
     "output_type": "stream",
     "text": [
      "Conducting TF and DF on corpus: 100%|██████████| 9315/9315 [00:07<00:00, 1294.94it/s]\n",
      "[BM25] IDF for each term: 100%|██████████| 181453/181453 [00:00<00:00, 906297.83it/s]\n"
     ]
    }
   ],
   "source": [
    "from src.bm25 import BM25\n",
    "bm25 = BM25(corpus)"
   ]
  },
  {
   "cell_type": "code",
   "execution_count": 7,
   "metadata": {
    "colab": {
     "base_uri": "https://localhost:8080/",
     "height": 53
    },
    "colab_type": "code",
    "executionInfo": {
     "elapsed": 79590,
     "status": "ok",
     "timestamp": 1592364988657,
     "user": {
      "displayName": "Evan Chang",
      "photoUrl": "https://lh3.googleusercontent.com/a-/AOh14GhLwuv1HrLfJCuFO3Jv9_dkRwGwd90aHRAVsWIh7Q=s64",
      "userId": "01810893482679501710"
     },
     "user_tz": -480
    },
    "id": "M9MqMOTFMSlf",
    "outputId": "939f0c0f-0089-442f-9923-3301de166fcf"
   },
   "outputs": [
    {
     "name": "stderr",
     "output_type": "stream",
     "text": [
      "Conducting TF and DF on corpus: 100%|██████████| 9315/9315 [00:07<00:00, 1262.01it/s]\n",
      "[BM25] IDF for each term: 100%|██████████| 181453/181453 [00:00<00:00, 884656.43it/s]\n"
     ]
    }
   ],
   "source": [
    "from src.bm25 import BM25L\n",
    "bm25L = BM25L(corpus)"
   ]
  },
  {
   "cell_type": "code",
   "execution_count": 8,
   "metadata": {
    "colab": {
     "base_uri": "https://localhost:8080/",
     "height": 53
    },
    "colab_type": "code",
    "executionInfo": {
     "elapsed": 86090,
     "status": "ok",
     "timestamp": 1592364996117,
     "user": {
      "displayName": "Evan Chang",
      "photoUrl": "https://lh3.googleusercontent.com/a-/AOh14GhLwuv1HrLfJCuFO3Jv9_dkRwGwd90aHRAVsWIh7Q=s64",
      "userId": "01810893482679501710"
     },
     "user_tz": -480
    },
    "id": "NAzMXJTPICk6",
    "outputId": "33087dfd-0cea-4101-e9ae-89d95a1d3bd4"
   },
   "outputs": [
    {
     "name": "stderr",
     "output_type": "stream",
     "text": [
      "Conducting TF and DF on corpus: 100%|██████████| 9315/9315 [00:07<00:00, 1302.43it/s]\n",
      "[BM25] IDF for each term: 100%|██████████| 181453/181453 [00:00<00:00, 936717.65it/s]\n"
     ]
    }
   ],
   "source": [
    "from src.bm25 import BM25plus\n",
    "bm25plus = BM25plus(corpus)"
   ]
  },
  {
   "cell_type": "markdown",
   "metadata": {
    "colab_type": "text",
    "id": "QhzSV1FKB2SS"
   },
   "source": [
    "## 3.4. Get keywords for each document\n",
    "using TFIDF"
   ]
  },
  {
   "cell_type": "code",
   "execution_count": null,
   "metadata": {
    "colab": {},
    "colab_type": "code",
    "id": "-VdzdSaDB18A"
   },
   "outputs": [],
   "source": [
    "data = data.reindex(columns=list(data.columns)+['keywords'])\n",
    "\n",
    "import pandas as pd\n",
    "from tqdm import tqdm\n",
    "tqdm.pandas()\n",
    "data['keywords'] = pd.Series(corpus).progress_apply(\n",
    "    lambda doc: tfidf.doc_keywords(doc, 20)\n",
    ")\n",
    "\n",
    "from src.helper import pickle_dump\n",
    "folder = 'processed_data'\n",
    "filename = 'raw_data_comm_use_subset_df_keyword'\n",
    "pickle_dump(f'./{folder}/{filename}.pkl', data)"
   ]
  },
  {
   "cell_type": "markdown",
   "metadata": {
    "colab_type": "text",
    "id": "X9IpTBD5LFE5"
   },
   "source": [
    "## 3.5. Relevant Retrieve class\n",
    "1. Corpus will be formed from data's columns ['title', 'abstract', 'text']\n",
    "2. If text_preprocessor function passed into the class, text preprocessing will be done on the corpus\n",
    "3. Conduct TFIDF on corpus\n",
    "4. 20 keywords will be tagged to each document using TFIDF\n",
    "\n",
    "### **search_similar** (func):\n",
    "1. It will use tokens from the query to look for matching documents using their keywords; token to keyword matching\n",
    "2. Using BM25 to get relevant document scoring"
   ]
  },
  {
   "cell_type": "code",
   "execution_count": 9,
   "metadata": {
    "colab": {
     "base_uri": "https://localhost:8080/",
     "height": 106
    },
    "colab_type": "code",
    "executionInfo": {
     "elapsed": 111854,
     "status": "ok",
     "timestamp": 1592365026587,
     "user": {
      "displayName": "Evan Chang",
      "photoUrl": "https://lh3.googleusercontent.com/a-/AOh14GhLwuv1HrLfJCuFO3Jv9_dkRwGwd90aHRAVsWIh7Q=s64",
      "userId": "01810893482679501710"
     },
     "user_tz": -480
    },
    "id": "e2ciaoVBLElq",
    "outputId": "a78c987f-dff7-4ab4-db26-a45e6ed68482"
   },
   "outputs": [
    {
     "name": "stderr",
     "output_type": "stream",
     "text": [
      "TF and DF for each term on each document: 100%|██████████| 9315/9315 [00:07<00:00, 1300.32it/s]\n",
      "IDF for each term: 100%|██████████| 181453/181453 [00:00<00:00, 947010.83it/s] \n",
      "TF-IDF on each document: 100%|██████████| 9315/9315 [00:07<00:00, 1314.12it/s]\n",
      "  1%|          | 74/9315 [00:00<00:12, 732.75it/s]"
     ]
    },
    {
     "name": "stdout",
     "output_type": "stream",
     "text": [
      "Obtain 20 keywords from each documents using TFIDF\n"
     ]
    },
    {
     "name": "stderr",
     "output_type": "stream",
     "text": [
      "100%|██████████| 9315/9315 [00:13<00:00, 710.50it/s]\n"
     ]
    }
   ],
   "source": [
    "from src.covid_19_rr import rel_retrieve\n",
    "rr = rel_retrieve(data, None, corpus)"
   ]
  },
  {
   "cell_type": "markdown",
   "metadata": {
    "colab_type": "text",
    "id": "SdpuRLKnx6o5"
   },
   "source": [
    "# 4. Load all pre-saved objects"
   ]
  },
  {
   "cell_type": "code",
   "execution_count": 3,
   "metadata": {
    "colab": {},
    "colab_type": "code",
    "executionInfo": {
     "elapsed": 3995,
     "status": "ok",
     "timestamp": 1592364908320,
     "user": {
      "displayName": "Evan Chang",
      "photoUrl": "https://lh3.googleusercontent.com/a-/AOh14GhLwuv1HrLfJCuFO3Jv9_dkRwGwd90aHRAVsWIh7Q=s64",
      "userId": "01810893482679501710"
     },
     "user_tz": -480
    },
    "id": "XltVaedcRjby"
   },
   "outputs": [],
   "source": [
    "from src.helper import pickle_load\n",
    "filepath = 'processed_data/raw_data_comm_use_subset_df.pkl'\n",
    "data = pickle_load(filepath)\n",
    "\n",
    "filepath = 'processed_data/raw_data_comm_use_subset_corpus.pkl'\n",
    "corpus = pickle_load(filepath)\n",
    "\n",
    "# filepath = 'processed_data/raw_data_comm_use_subset_df_keyword.pkl'\n",
    "# data = pickle_load(filepath)"
   ]
  },
  {
   "cell_type": "markdown",
   "metadata": {
    "colab_type": "text",
    "id": "hZSjWOaMx6pF"
   },
   "source": [
    "# 5. Search Relevant Articles based on question\n",
    "Comparing the different methods"
   ]
  },
  {
   "cell_type": "code",
   "execution_count": 11,
   "metadata": {
    "colab": {
     "base_uri": "https://localhost:8080/",
     "height": 1000
    },
    "colab_type": "code",
    "executionInfo": {
     "elapsed": 2235,
     "status": "ok",
     "timestamp": 1592366312334,
     "user": {
      "displayName": "Evan Chang",
      "photoUrl": "https://lh3.googleusercontent.com/a-/AOh14GhLwuv1HrLfJCuFO3Jv9_dkRwGwd90aHRAVsWIh7Q=s64",
      "userId": "01810893482679501710"
     },
     "user_tz": -480
    },
    "id": "zOqvo_PHx6pG",
    "outputId": "7a96896f-84bd-4a1e-9101-edc3d1f723e2"
   },
   "outputs": [
    {
     "name": "stdout",
     "output_type": "stream",
     "text": [
      "Is the virus transmitted by aerisol, droplets, food, close contact, fecal matter, or water\n"
     ]
    },
    {
     "name": "stderr",
     "output_type": "stream",
     "text": [
      "Conducting TF and DF on corpus: 100%|██████████| 114/114 [00:00<00:00, 75740.64it/s]\n",
      "[BM25] IDF for each term: 100%|██████████| 815/815 [00:00<00:00, 460322.89it/s]\n",
      "Conducting TF and DF on corpus: 100%|██████████| 114/114 [00:00<00:00, 19060.46it/s]\n",
      "[BM25] IDF for each term: 100%|██████████| 5757/5757 [00:00<00:00, 1213946.41it/s]"
     ]
    },
    {
     "name": "stdout",
     "output_type": "stream",
     "text": [
      "{'340036a465efeb78d0b0160bf6dddd2322f293ef': 4576.699335146094, 'bd246a6d199cb961f7c4c3421d22324aface4ff4': 4576.699335146094, '04d02a37dcbb17916d2a5c03288cb9b59000ebba': 4576.699335146094, '936d646d345dd1d9e2df55574f53ebae22c29146': 4576.699335146094, '03d32bf9da6495150f5016a0bf2d4b7647620c7d': 4576.699335146094, 'a2ea85a02fee49f55f485a2b5d808636cb38a0bb': 4576.699335146094, 'b7de4f4a99e8da86891ed28bca52afcbcbdabfa1': 4576.699335146094, '9756bb3c608ed790d2306fc8db815a694eeca45f': 4548.642609742626, '513bf780b2d2a5af6a194122cd3dd98c7b507fbe': 4546.718965051681, '77dc09841a62d92ba5a40d4f848f34e3c4e27713': 4545.951882207763}\n"
     ]
    },
    {
     "name": "stderr",
     "output_type": "stream",
     "text": [
      "\n"
     ]
    },
    {
     "data": {
      "text/html": [
       "<div>\n",
       "<style scoped>\n",
       "    .dataframe tbody tr th:only-of-type {\n",
       "        vertical-align: middle;\n",
       "    }\n",
       "\n",
       "    .dataframe tbody tr th {\n",
       "        vertical-align: top;\n",
       "    }\n",
       "\n",
       "    .dataframe thead th {\n",
       "        text-align: right;\n",
       "    }\n",
       "</style>\n",
       "<table border=\"1\" class=\"dataframe\">\n",
       "  <thead>\n",
       "    <tr style=\"text-align: right;\">\n",
       "      <th></th>\n",
       "      <th>Score</th>\n",
       "    </tr>\n",
       "    <tr>\n",
       "      <th>Title</th>\n",
       "      <th></th>\n",
       "    </tr>\n",
       "  </thead>\n",
       "  <tbody>\n",
       "    <tr>\n",
       "      <th></th>\n",
       "      <td>4576.699335</td>\n",
       "    </tr>\n",
       "    <tr>\n",
       "      <th></th>\n",
       "      <td>4576.699335</td>\n",
       "    </tr>\n",
       "    <tr>\n",
       "      <th></th>\n",
       "      <td>4576.699335</td>\n",
       "    </tr>\n",
       "    <tr>\n",
       "      <th></th>\n",
       "      <td>4576.699335</td>\n",
       "    </tr>\n",
       "    <tr>\n",
       "      <th></th>\n",
       "      <td>4576.699335</td>\n",
       "    </tr>\n",
       "    <tr>\n",
       "      <th></th>\n",
       "      <td>4576.699335</td>\n",
       "    </tr>\n",
       "    <tr>\n",
       "      <th></th>\n",
       "      <td>4576.699335</td>\n",
       "    </tr>\n",
       "    <tr>\n",
       "      <th>Transmission routes of 2019-nCoV and controls in dental practice</th>\n",
       "      <td>4548.642610</td>\n",
       "    </tr>\n",
       "    <tr>\n",
       "      <th>Patterns of human social contact and contact with animals in Shanghai, China</th>\n",
       "      <td>4546.718965</td>\n",
       "    </tr>\n",
       "    <tr>\n",
       "      <th>Social contact patterns relevant to the spread of respiratory infectious diseases in Hong</th>\n",
       "      <td>4545.951882</td>\n",
       "    </tr>\n",
       "  </tbody>\n",
       "</table>\n",
       "</div>"
      ],
      "text/plain": [
       "                                                          Score\n",
       "Title                                                          \n",
       "                                                    4576.699335\n",
       "                                                    4576.699335\n",
       "                                                    4576.699335\n",
       "                                                    4576.699335\n",
       "                                                    4576.699335\n",
       "                                                    4576.699335\n",
       "                                                    4576.699335\n",
       "Transmission routes of 2019-nCoV and controls i...  4548.642610\n",
       "Patterns of human social contact and contact wi...  4546.718965\n",
       "Social contact patterns relevant to the spread ...  4545.951882"
      ]
     },
     "metadata": {
      "tags": []
     },
     "output_type": "display_data"
    },
    {
     "name": "stdout",
     "output_type": "stream",
     "text": [
      "<function TFIDF.search_similar at 0x7fd5869e69d8>\n"
     ]
    },
    {
     "data": {
      "text/html": [
       "<div>\n",
       "<style scoped>\n",
       "    .dataframe tbody tr th:only-of-type {\n",
       "        vertical-align: middle;\n",
       "    }\n",
       "\n",
       "    .dataframe tbody tr th {\n",
       "        vertical-align: top;\n",
       "    }\n",
       "\n",
       "    .dataframe thead th {\n",
       "        text-align: right;\n",
       "    }\n",
       "</style>\n",
       "<table border=\"1\" class=\"dataframe\">\n",
       "  <thead>\n",
       "    <tr style=\"text-align: right;\">\n",
       "      <th></th>\n",
       "      <th>Score</th>\n",
       "    </tr>\n",
       "    <tr>\n",
       "      <th>Title</th>\n",
       "      <th></th>\n",
       "    </tr>\n",
       "  </thead>\n",
       "  <tbody>\n",
       "    <tr>\n",
       "      <th>The efficacy of medical masks and respirators against respiratory infection in healthcare workers</th>\n",
       "      <td>0.069543</td>\n",
       "    </tr>\n",
       "    <tr>\n",
       "      <th>The Effects of Temperature and Relative Humidity on the Viability of the SARS Coronavirus</th>\n",
       "      <td>0.067443</td>\n",
       "    </tr>\n",
       "    <tr>\n",
       "      <th>Detection of immunoglobulin (Ig) A antibodies against porcine epidemic diarrhea virus (PEDV) in fecal and serum samples</th>\n",
       "      <td>0.062812</td>\n",
       "    </tr>\n",
       "    <tr>\n",
       "      <th>Understanding Viral Transmission Behavior via Protein Intrinsic Disorder Prediction: Coronaviruses</th>\n",
       "      <td>0.058863</td>\n",
       "    </tr>\n",
       "    <tr>\n",
       "      <th>Transmission of Influenza A in a Student Office Based on Realistic Person-to-Person Contact and Surface Touch Behaviour</th>\n",
       "      <td>0.054720</td>\n",
       "    </tr>\n",
       "    <tr>\n",
       "      <th>Equine rhinitis B viruses in horse fecal samples from the Middle East</th>\n",
       "      <td>0.052421</td>\n",
       "    </tr>\n",
       "    <tr>\n",
       "      <th>Awareness of droplet and airborne isolation precautions among dental health professionals during the outbreak of corona virus infection in Riyadh city, Saudi Arabia</th>\n",
       "      <td>0.051947</td>\n",
       "    </tr>\n",
       "    <tr>\n",
       "      <th>RNA Viral Community in Human Feces: Prevalence of Plant Pathogenic Viruses</th>\n",
       "      <td>0.051095</td>\n",
       "    </tr>\n",
       "    <tr>\n",
       "      <th></th>\n",
       "      <td>0.050165</td>\n",
       "    </tr>\n",
       "    <tr>\n",
       "      <th>Recognition of aerosol transmission of infectious agents: a commentary</th>\n",
       "      <td>0.050053</td>\n",
       "    </tr>\n",
       "  </tbody>\n",
       "</table>\n",
       "</div>"
      ],
      "text/plain": [
       "                                                       Score\n",
       "Title                                                       \n",
       "The efficacy of medical masks and respirators a...  0.069543\n",
       "The Effects of Temperature and Relative Humidit...  0.067443\n",
       "Detection of immunoglobulin (Ig) A antibodies a...  0.062812\n",
       "Understanding Viral Transmission Behavior via P...  0.058863\n",
       "Transmission of Influenza A in a Student Office...  0.054720\n",
       "Equine rhinitis B viruses in horse fecal sample...  0.052421\n",
       "Awareness of droplet and airborne isolation pre...  0.051947\n",
       "RNA Viral Community in Human Feces: Prevalence ...  0.051095\n",
       "                                                    0.050165\n",
       "Recognition of aerosol transmission of infectio...  0.050053"
      ]
     },
     "metadata": {
      "tags": []
     },
     "output_type": "display_data"
    },
    {
     "name": "stdout",
     "output_type": "stream",
     "text": [
      "<function sklearn_TFIDF.search_similar at 0x7fd559b9b378>\n"
     ]
    },
    {
     "data": {
      "text/html": [
       "<div>\n",
       "<style scoped>\n",
       "    .dataframe tbody tr th:only-of-type {\n",
       "        vertical-align: middle;\n",
       "    }\n",
       "\n",
       "    .dataframe tbody tr th {\n",
       "        vertical-align: top;\n",
       "    }\n",
       "\n",
       "    .dataframe thead th {\n",
       "        text-align: right;\n",
       "    }\n",
       "</style>\n",
       "<table border=\"1\" class=\"dataframe\">\n",
       "  <thead>\n",
       "    <tr style=\"text-align: right;\">\n",
       "      <th></th>\n",
       "      <th>Score</th>\n",
       "    </tr>\n",
       "    <tr>\n",
       "      <th>Title</th>\n",
       "      <th></th>\n",
       "    </tr>\n",
       "  </thead>\n",
       "  <tbody>\n",
       "    <tr>\n",
       "      <th>Cough aerosol in healthy participants: fundamental knowledge to optimize droplet-spread infectious respiratory disease management Cough aerosol in healthy participants: fundamental knowledge to optimize droplet-spread infectious respiratory disease management</th>\n",
       "      <td>0.323815</td>\n",
       "    </tr>\n",
       "    <tr>\n",
       "      <th>micromachines Recent Advances in Droplet-based Microfluidic Technologies for Biochemistry and Molecular Biology</th>\n",
       "      <td>0.317858</td>\n",
       "    </tr>\n",
       "    <tr>\n",
       "      <th>Effect of selected gastrointestinal parasites and viral agents on fecal S100A12 concentrations in puppies as a potential comparative model</th>\n",
       "      <td>0.316948</td>\n",
       "    </tr>\n",
       "    <tr>\n",
       "      <th>RNA Viral Community in Human Feces: Prevalence of Plant Pathogenic Viruses</th>\n",
       "      <td>0.261757</td>\n",
       "    </tr>\n",
       "    <tr>\n",
       "      <th>Characterizing the rapid spread of porcine epidemic diarrhea virus (PEDV) through an animal food manufacturing facility</th>\n",
       "      <td>0.254149</td>\n",
       "    </tr>\n",
       "    <tr>\n",
       "      <th>Effectiveness of cough etiquette maneuvers in disrupting the chain of transmission of infectious respiratory diseases</th>\n",
       "      <td>0.238926</td>\n",
       "    </tr>\n",
       "    <tr>\n",
       "      <th>Standardized Preparation for Fecal Microbiota Transplantation in Pigs</th>\n",
       "      <td>0.232145</td>\n",
       "    </tr>\n",
       "    <tr>\n",
       "      <th>Emerging Themes in Epidemiology Mixing patterns and the spread of close-contact infectious diseases</th>\n",
       "      <td>0.225107</td>\n",
       "    </tr>\n",
       "    <tr>\n",
       "      <th>Theoretical Biology and Medical Modelling</th>\n",
       "      <td>0.224804</td>\n",
       "    </tr>\n",
       "    <tr>\n",
       "      <th>Detection of immunoglobulin (Ig) A antibodies against porcine epidemic diarrhea virus (PEDV) in fecal and serum samples</th>\n",
       "      <td>0.218448</td>\n",
       "    </tr>\n",
       "  </tbody>\n",
       "</table>\n",
       "</div>"
      ],
      "text/plain": [
       "                                                       Score\n",
       "Title                                                       \n",
       "Cough aerosol in healthy participants: fundamen...  0.323815\n",
       "micromachines Recent Advances in Droplet-based ...  0.317858\n",
       "Effect of selected gastrointestinal parasites a...  0.316948\n",
       "RNA Viral Community in Human Feces: Prevalence ...  0.261757\n",
       "Characterizing the rapid spread of porcine epid...  0.254149\n",
       "Effectiveness of cough etiquette maneuvers in d...  0.238926\n",
       "Standardized Preparation for Fecal Microbiota T...  0.232145\n",
       "Emerging Themes in Epidemiology Mixing patterns...  0.225107\n",
       "Theoretical Biology and Medical Modelling           0.224804\n",
       "Detection of immunoglobulin (Ig) A antibodies a...  0.218448"
      ]
     },
     "metadata": {
      "tags": []
     },
     "output_type": "display_data"
    },
    {
     "name": "stdout",
     "output_type": "stream",
     "text": [
      "<function BM25.get_scores at 0x7fd559b9b620>\n"
     ]
    },
    {
     "data": {
      "text/html": [
       "<div>\n",
       "<style scoped>\n",
       "    .dataframe tbody tr th:only-of-type {\n",
       "        vertical-align: middle;\n",
       "    }\n",
       "\n",
       "    .dataframe tbody tr th {\n",
       "        vertical-align: top;\n",
       "    }\n",
       "\n",
       "    .dataframe thead th {\n",
       "        text-align: right;\n",
       "    }\n",
       "</style>\n",
       "<table border=\"1\" class=\"dataframe\">\n",
       "  <thead>\n",
       "    <tr style=\"text-align: right;\">\n",
       "      <th></th>\n",
       "      <th>Score</th>\n",
       "    </tr>\n",
       "    <tr>\n",
       "      <th>Title</th>\n",
       "      <th></th>\n",
       "    </tr>\n",
       "  </thead>\n",
       "  <tbody>\n",
       "    <tr>\n",
       "      <th></th>\n",
       "      <td>40.411282</td>\n",
       "    </tr>\n",
       "    <tr>\n",
       "      <th>Genetic Analysis of West Nile Virus Isolates from an Outbreak in Idaho, United States, 2006-2007</th>\n",
       "      <td>40.363436</td>\n",
       "    </tr>\n",
       "    <tr>\n",
       "      <th>SUPPLEMENTARY ONLINE MATERIAL -SEARCH STRATEGY Medline (Ovid) Studies that describe epidemiology in severe cases. Viruses</th>\n",
       "      <td>39.656789</td>\n",
       "    </tr>\n",
       "    <tr>\n",
       "      <th>Heterogeneity in District-level Transmission of Ebola Virus Disease during the Epidemic in West Africa</th>\n",
       "      <td>39.166500</td>\n",
       "    </tr>\n",
       "    <tr>\n",
       "      <th>Supplementary Information for A structure-based rationale for sialic acid independent host-cell entry of Sosuga virus</th>\n",
       "      <td>38.925720</td>\n",
       "    </tr>\n",
       "    <tr>\n",
       "      <th>SUPPLEMENTARY MATERIALS FOR Viruses in Vietnamese patients presenting with community acquired sepsis of unknown cause</th>\n",
       "      <td>38.744017</td>\n",
       "    </tr>\n",
       "    <tr>\n",
       "      <th>SUPPLEMENTARY DATA Sequence-independent characterization of viruses based on the pattern of viral small RNAs produced by the host</th>\n",
       "      <td>38.671825</td>\n",
       "    </tr>\n",
       "    <tr>\n",
       "      <th></th>\n",
       "      <td>38.520246</td>\n",
       "    </tr>\n",
       "    <tr>\n",
       "      <th>GMC21.tibia_length GMC21.spleen_wt</th>\n",
       "      <td>38.425654</td>\n",
       "    </tr>\n",
       "    <tr>\n",
       "      <th></th>\n",
       "      <td>38.284635</td>\n",
       "    </tr>\n",
       "  </tbody>\n",
       "</table>\n",
       "</div>"
      ],
      "text/plain": [
       "                                                        Score\n",
       "Title                                                        \n",
       "                                                    40.411282\n",
       "Genetic Analysis of West Nile Virus Isolates fr...  40.363436\n",
       "SUPPLEMENTARY ONLINE MATERIAL -SEARCH STRATEGY ...  39.656789\n",
       "Heterogeneity in District-level Transmission of...  39.166500\n",
       "Supplementary Information for A structure-based...  38.925720\n",
       "SUPPLEMENTARY MATERIALS FOR Viruses in Vietname...  38.744017\n",
       "SUPPLEMENTARY DATA Sequence-independent charact...  38.671825\n",
       "                                                    38.520246\n",
       "GMC21.tibia_length GMC21.spleen_wt                  38.425654\n",
       "                                                    38.284635"
      ]
     },
     "metadata": {
      "tags": []
     },
     "output_type": "display_data"
    },
    {
     "name": "stdout",
     "output_type": "stream",
     "text": [
      "<function BM25L.get_scores at 0x7fd559b9b6a8>\n"
     ]
    },
    {
     "data": {
      "text/html": [
       "<div>\n",
       "<style scoped>\n",
       "    .dataframe tbody tr th:only-of-type {\n",
       "        vertical-align: middle;\n",
       "    }\n",
       "\n",
       "    .dataframe tbody tr th {\n",
       "        vertical-align: top;\n",
       "    }\n",
       "\n",
       "    .dataframe thead th {\n",
       "        text-align: right;\n",
       "    }\n",
       "</style>\n",
       "<table border=\"1\" class=\"dataframe\">\n",
       "  <thead>\n",
       "    <tr style=\"text-align: right;\">\n",
       "      <th></th>\n",
       "      <th>Score</th>\n",
       "    </tr>\n",
       "    <tr>\n",
       "      <th>Title</th>\n",
       "      <th></th>\n",
       "    </tr>\n",
       "  </thead>\n",
       "  <tbody>\n",
       "    <tr>\n",
       "      <th>Infectious Disease Risk Across the Growing Human-Non Human Primate Interface: A Review of the Evidence</th>\n",
       "      <td>22.959753</td>\n",
       "    </tr>\n",
       "    <tr>\n",
       "      <th>Transmission routes of 2019-nCoV and controls in dental practice</th>\n",
       "      <td>22.481450</td>\n",
       "    </tr>\n",
       "    <tr>\n",
       "      <th>PUBLIC HEALTH REVIEW ARTICLE</th>\n",
       "      <td>22.470956</td>\n",
       "    </tr>\n",
       "    <tr>\n",
       "      <th>The Effects of Temperature and Relative Humidity on the Viability of the SARS Coronavirus</th>\n",
       "      <td>22.419969</td>\n",
       "    </tr>\n",
       "    <tr>\n",
       "      <th>Hepatitis A Virus: Essential Knowledge and a Novel Identify-Isolate-Inform Tool for Frontline Healthcare Providers</th>\n",
       "      <td>22.348442</td>\n",
       "    </tr>\n",
       "    <tr>\n",
       "      <th>Understanding community perceptions, social norms and current practice related to respiratory infection in Bangladesh during 2009: a qualitative formative study</th>\n",
       "      <td>22.236799</td>\n",
       "    </tr>\n",
       "    <tr>\n",
       "      <th>Fomite-mediated transmission as a sufficient pathway: a comparative analysis across three viral pathogens</th>\n",
       "      <td>22.195121</td>\n",
       "    </tr>\n",
       "    <tr>\n",
       "      <th>A Review and Update on Waterborne Viral Diseases Associated with Swimming Pools</th>\n",
       "      <td>22.096086</td>\n",
       "    </tr>\n",
       "    <tr>\n",
       "      <th>PUBLIC HEALTH REVIEW ARTICLE Animal viruses, bacteria, and cancer: a brief commentary</th>\n",
       "      <td>22.058787</td>\n",
       "    </tr>\n",
       "    <tr>\n",
       "      <th>Transmission of Influenza A in a Student Office Based on Realistic Person-to-Person Contact and Surface Touch Behaviour</th>\n",
       "      <td>22.039038</td>\n",
       "    </tr>\n",
       "  </tbody>\n",
       "</table>\n",
       "</div>"
      ],
      "text/plain": [
       "                                                        Score\n",
       "Title                                                        \n",
       "Infectious Disease Risk Across the Growing Huma...  22.959753\n",
       "Transmission routes of 2019-nCoV and controls i...  22.481450\n",
       "PUBLIC HEALTH REVIEW ARTICLE                        22.470956\n",
       "The Effects of Temperature and Relative Humidit...  22.419969\n",
       "Hepatitis A Virus: Essential Knowledge and a No...  22.348442\n",
       "Understanding community perceptions, social nor...  22.236799\n",
       "Fomite-mediated transmission as a sufficient pa...  22.195121\n",
       "A Review and Update on Waterborne Viral Disease...  22.096086\n",
       "PUBLIC HEALTH REVIEW ARTICLE Animal viruses, ba...  22.058787\n",
       "Transmission of Influenza A in a Student Office...  22.039038"
      ]
     },
     "metadata": {
      "tags": []
     },
     "output_type": "display_data"
    },
    {
     "name": "stdout",
     "output_type": "stream",
     "text": [
      "<function BM25plus.get_scores at 0x7fd559b9b950>\n"
     ]
    },
    {
     "data": {
      "text/html": [
       "<div>\n",
       "<style scoped>\n",
       "    .dataframe tbody tr th:only-of-type {\n",
       "        vertical-align: middle;\n",
       "    }\n",
       "\n",
       "    .dataframe tbody tr th {\n",
       "        vertical-align: top;\n",
       "    }\n",
       "\n",
       "    .dataframe thead th {\n",
       "        text-align: right;\n",
       "    }\n",
       "</style>\n",
       "<table border=\"1\" class=\"dataframe\">\n",
       "  <thead>\n",
       "    <tr style=\"text-align: right;\">\n",
       "      <th></th>\n",
       "      <th>Score</th>\n",
       "    </tr>\n",
       "    <tr>\n",
       "      <th>Title</th>\n",
       "      <th></th>\n",
       "    </tr>\n",
       "  </thead>\n",
       "  <tbody>\n",
       "    <tr>\n",
       "      <th>Infectious Disease Risk Across the Growing Human-Non Human Primate Interface: A Review of the Evidence</th>\n",
       "      <td>28.529059</td>\n",
       "    </tr>\n",
       "    <tr>\n",
       "      <th>Microbiome analysis reveals the abundance of bacterial pathogens in Rousettus leschenaultii guano</th>\n",
       "      <td>27.584505</td>\n",
       "    </tr>\n",
       "    <tr>\n",
       "      <th>Fomite-mediated transmission as a sufficient pathway: a comparative analysis across three viral pathogens</th>\n",
       "      <td>27.578554</td>\n",
       "    </tr>\n",
       "    <tr>\n",
       "      <th>Hepatitis A Virus: Essential Knowledge and a Novel Identify-Isolate-Inform Tool for Frontline Healthcare Providers</th>\n",
       "      <td>27.264113</td>\n",
       "    </tr>\n",
       "    <tr>\n",
       "      <th>PUBLIC HEALTH REVIEW ARTICLE</th>\n",
       "      <td>27.130950</td>\n",
       "    </tr>\n",
       "    <tr>\n",
       "      <th>Understanding community perceptions, social norms and current practice related to respiratory infection in Bangladesh during 2009: a qualitative formative study</th>\n",
       "      <td>27.068386</td>\n",
       "    </tr>\n",
       "    <tr>\n",
       "      <th>The Effects of Temperature and Relative Humidity on the Viability of the SARS Coronavirus</th>\n",
       "      <td>26.972003</td>\n",
       "    </tr>\n",
       "    <tr>\n",
       "      <th>Transmission routes of 2019-nCoV and controls in dental practice</th>\n",
       "      <td>26.849155</td>\n",
       "    </tr>\n",
       "    <tr>\n",
       "      <th>PUBLIC HEALTH REVIEW ARTICLE Animal viruses, bacteria, and cancer: a brief commentary</th>\n",
       "      <td>26.685579</td>\n",
       "    </tr>\n",
       "    <tr>\n",
       "      <th>A Review and Update on Waterborne Viral Diseases Associated with Swimming Pools</th>\n",
       "      <td>26.678893</td>\n",
       "    </tr>\n",
       "  </tbody>\n",
       "</table>\n",
       "</div>"
      ],
      "text/plain": [
       "                                                        Score\n",
       "Title                                                        \n",
       "Infectious Disease Risk Across the Growing Huma...  28.529059\n",
       "Microbiome analysis reveals the abundance of ba...  27.584505\n",
       "Fomite-mediated transmission as a sufficient pa...  27.578554\n",
       "Hepatitis A Virus: Essential Knowledge and a No...  27.264113\n",
       "PUBLIC HEALTH REVIEW ARTICLE                        27.130950\n",
       "Understanding community perceptions, social nor...  27.068386\n",
       "The Effects of Temperature and Relative Humidit...  26.972003\n",
       "Transmission routes of 2019-nCoV and controls i...  26.849155\n",
       "PUBLIC HEALTH REVIEW ARTICLE Animal viruses, ba...  26.685579\n",
       "A Review and Update on Waterborne Viral Disease...  26.678893"
      ]
     },
     "metadata": {
      "tags": []
     },
     "output_type": "display_data"
    }
   ],
   "source": [
    "question_list = [\n",
    "    \"Is the virus transmitted by aerisol, droplets, food, close contact, fecal matter, or water\",\n",
    "    \"How long is the incubation period for the virus\",\n",
    "    \"Can the virus be transmitted asymptomatically or during the incubation period\",\n",
    "    \"What is the quantity of asymptomatic shedding\",\n",
    "    \"How does temperature and humidity affect the tramsmission of 2019-nCoV\",\n",
    "    \"How long can 2019-nCoV remain viable on inanimate, environmental, or common surfaces\",\n",
    "    \"What types of inanimate or environmental surfaces affect transmission, survival, or inactivation of 2019-nCov\",\n",
    "    \"Can the virus be found in nasal discharge, sputum, urine, fecal matter, or blood\",\n",
    "    \"What risk factors contribute to the severity of 2019-nCoV\",\n",
    "    \"How does hypertension affect patients\"\n",
    "]\n",
    "\n",
    "from src.helper import sort_dict\n",
    "from IPython.display import display\n",
    "import pandas as pd\n",
    "\n",
    "methods = [\n",
    "    tfidf.search_similar,\n",
    "    sk_tfidf.search_similar,\n",
    "    bm25.get_scores,\n",
    "    bm25L.get_scores,\n",
    "    bm25plus.get_scores\n",
    "]\n",
    "\n",
    "for question in question_list[:1]:\n",
    "    print(question)\n",
    "    question = text_prep(question)\n",
    "\n",
    "    result = sort_dict(\n",
    "        rr.search_similar(question),\n",
    "        'value', True, 10\n",
    "    )\n",
    "    print(result)\n",
    "    display(\n",
    "        pd.DataFrame(\n",
    "            [\n",
    "                {'Title': rr.df_dict.get(paper_id)[rr.col_idx_title['title']], 'Score': score}\n",
    "                for paper_id, score in result.items()\n",
    "            ]\n",
    "        ).set_index('Title')\n",
    "    )\n",
    "    for method in methods:\n",
    "        print(method.__func__)\n",
    "        result = sort_dict(\n",
    "            dict(zip(range(tfidf.n_doc), method(question))),\n",
    "            'value', True, 10\n",
    "        )\n",
    "\n",
    "        display(\n",
    "            pd.DataFrame(\n",
    "                [{'Title': data.iloc[key]['title'], 'Score': score} for key, score in result.items()]\n",
    "            ).set_index('Title')\n",
    "        )"
   ]
  }
 ],
 "metadata": {
  "colab": {
   "authorship_tag": "ABX9TyPP1Qu0dUx7OsyplBBUhYs0",
   "collapsed_sections": [
    "_7tNcPYnx6os",
    "6gg2uqh2x6o2",
    "QhzSV1FKB2SS"
   ],
   "machine_shape": "hm",
   "mount_file_id": "1vPhLUP86PGxB_rm6pBvEHTovVNX9bClw",
   "name": "CORD-19_Retrieve_Relevant.ipynb",
   "provenance": []
  },
  "kernelspec": {
   "display_name": "Python 3",
   "language": "python",
   "name": "python3"
  },
  "language_info": {
   "codemirror_mode": {
    "name": "ipython",
    "version": 3
   },
   "file_extension": ".py",
   "mimetype": "text/x-python",
   "name": "python",
   "nbconvert_exporter": "python",
   "pygments_lexer": "ipython3",
   "version": "3.7.6"
  }
 },
 "nbformat": 4,
 "nbformat_minor": 4
}

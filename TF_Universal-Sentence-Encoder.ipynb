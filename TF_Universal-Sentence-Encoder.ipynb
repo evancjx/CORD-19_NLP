{
 "cells": [
  {
   "cell_type": "code",
   "execution_count": null,
   "metadata": {},
   "outputs": [],
   "source": [
    "from os.path import isdir\n",
    "from os import mkdir\n",
    "import os\n",
    "\n",
    "# If folder doesn't exist, create folder\n",
    "if not isdir('./tensorflow_USE'): mkdir('./tensorflow_USE')\n",
    "\n",
    "# Point to cache location\n",
    "os.environ[\"TFHUB_CACHE_DIR\"] = './tensorflow_USE'\n",
    "\n",
    "# Tensorflow Version 2\n",
    "import tensorflow_hub as hub\n",
    "embed = hub.load('https://tfhub.dev/google/universal-sentence-encoder-large/3')"
   ]
  }
 ],
 "metadata": {
  "kernelspec": {
   "display_name": "Python 3",
   "language": "python",
   "name": "python3"
  },
  "language_info": {
   "codemirror_mode": {
    "name": "ipython",
    "version": 3
   },
   "file_extension": ".py",
   "mimetype": "text/x-python",
   "name": "python",
   "nbconvert_exporter": "python",
   "pygments_lexer": "ipython3",
   "version": "3.7.6"
  }
 },
 "nbformat": 4,
 "nbformat_minor": 4
}

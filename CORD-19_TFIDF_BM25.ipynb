{
 "cells": [
  {
   "cell_type": "markdown",
   "metadata": {
    "colab_type": "text",
    "id": "haKIC2dMLprZ"
   },
   "source": [
    "### Initalize Script"
   ]
  },
  {
   "cell_type": "markdown",
   "metadata": {
    "colab_type": "text",
    "id": "zC1xsv8uLpra"
   },
   "source": [
    "If you're running this script on Google Colab<br>\n",
    "Mount your Google drive: \n",
    "1. Click on the folder icon on the left\n",
    "2. Click Mount Drive\n",
    "3. The root directory would be /content/\n",
    "```\n",
    "# your Google Drive folder would be at:\n",
    "/content/drive/My Drive/\n",
    "```\n",
    "\n",
    "Change working directory:<br>\n",
    "1. Run this command:\n",
    "```\n",
    "%cd /content/drive/My Drive/<your folder>\n",
    "```"
   ]
  },
  {
   "cell_type": "code",
   "execution_count": null,
   "metadata": {
    "colab": {
     "base_uri": "https://localhost:8080/",
     "height": 35
    },
    "colab_type": "code",
    "executionInfo": {
     "elapsed": 858,
     "status": "ok",
     "timestamp": 1591053891001,
     "user": {
      "displayName": "Evan Chang",
      "photoUrl": "https://lh3.googleusercontent.com/a-/AOh14GhLwuv1HrLfJCuFO3Jv9_dkRwGwd90aHRAVsWIh7Q=s64",
      "userId": "01810893482679501710"
     },
     "user_tz": -480
    },
    "id": "yizVYgqQS-nh",
    "outputId": "f1a7313b-bf80-4419-8381-8718a984dc11"
   },
   "outputs": [],
   "source": [
    "%cd /content/drive/My Drive/Data Science/Covid-19"
   ]
  },
  {
   "cell_type": "markdown",
   "metadata": {},
   "source": [
    "### Read all\n",
    "Each paper are in json format"
   ]
  },
  {
   "cell_type": "code",
   "execution_count": null,
   "metadata": {},
   "outputs": [],
   "source": [
    "%%time\n",
    "from src.covid_19_tp import authors_name, body_text, format_bib\n",
    "\n",
    "from os import walk as dir_list\n",
    "from tqdm import tqdm\n",
    "import json\n",
    "\n",
    "src_folder = 'raw_data/comm_use_subset'\n",
    "data = [\n",
    "    {\n",
    "        'paper_id': file['paper_id'],\n",
    "        'title': file['metadata']['title'],\n",
    "        'authors': authors_name(file['metadata']['authors'], affiliation=True),\n",
    "\n",
    "        'abstract': body_text(file['abstract']),\n",
    "        'text': body_text(file['body_text']),\n",
    "\n",
    "        'bibliography': format_bib(file['bib_entries'])\n",
    "    }\n",
    "    for subdir, dirs, files in dir_list(f'./{folder}')\n",
    "    for file in tqdm(\n",
    "        [\n",
    "            json.load(open(f'{subdir}/{file}'))\n",
    "            for file in tqdm(files, desc=f'Loading all files in {subdir}')\n",
    "        ], desc=f'Reading individual files in {subdir}'\n",
    "    )\n",
    "]"
   ]
  },
  {
   "cell_type": "markdown",
   "metadata": {},
   "source": [
    "### Create DataFrame with dataset"
   ]
  },
  {
   "cell_type": "code",
   "execution_count": null,
   "metadata": {},
   "outputs": [],
   "source": [
    "import pandas as pd\n",
    "data = pd.DataFrame(data)"
   ]
  },
  {
   "cell_type": "markdown",
   "metadata": {},
   "source": [
    "### Save Dataset"
   ]
  },
  {
   "cell_type": "code",
   "execution_count": null,
   "metadata": {},
   "outputs": [],
   "source": [
    "filename = '_'.join(src_folder.split('/'))\n",
    "des_folder = 'processed_data'\n",
    "\n",
    "from os.path import isdir\n",
    "from os import mkdir\n",
    "if not isdir(f'./{des_folder}'): mkdir(f'./{des_folder}') # Create folder if it does not exist\n",
    "\n",
    "import pickle\n",
    "with open(f'{des_folder}/{filename}_df.pkl', 'wb') as output:\n",
    "    pickle.dump(data, output)"
   ]
  },
  {
   "cell_type": "markdown",
   "metadata": {},
   "source": [
    "### Load Dataset"
   ]
  },
  {
   "cell_type": "code",
   "execution_count": 1,
   "metadata": {},
   "outputs": [],
   "source": [
    "filepath = 'processed_data/raw_data_comm_use_subset_df.pkl'\n",
    "\n",
    "import pickle\n",
    "with open(filepath, 'rb') as f:\n",
    "    data = pickle.load(f)"
   ]
  },
  {
   "cell_type": "markdown",
   "metadata": {},
   "source": [
    "### Download optional (required) files"
   ]
  },
  {
   "cell_type": "markdown",
   "metadata": {},
   "source": [
    "Download nltk stopwords to use Stopwords\n",
    "```\n",
    "import nltk\n",
    "nltk.download('stopwords')\n",
    "```\n",
    "Download nltk wordnet to use WordNetLemmatizer:\n",
    "```\n",
    "import nltk\n",
    "nltk.download('wordnet')\n",
    "```\n",
    "Download nltk punkt to use Punkt Sentence Tokenizer\n",
    "```\n",
    "import nltk\n",
    "nltk.download('punkt')\n",
    "```"
   ]
  },
  {
   "cell_type": "markdown",
   "metadata": {},
   "source": [
    "### Load NLP functions"
   ]
  },
  {
   "cell_type": "code",
   "execution_count": 2,
   "metadata": {},
   "outputs": [
    {
     "name": "stderr",
     "output_type": "stream",
     "text": [
      "[nltk_data] Downloading package stopwords to\n",
      "[nltk_data]     C:\\Users\\Evan\\AppData\\Roaming\\nltk_data...\n",
      "[nltk_data]   Package stopwords is already up-to-date!\n"
     ]
    }
   ],
   "source": [
    "from src.text_preprocessing import nltk_NLP, spacy_NLP, STOP_WORDS, text_preprocess\n",
    "spacy_tokenizer = spacy_NLP('en_core_web_sm').tokenize_API()\n",
    "nlp_tokenizer = nltk_NLP().tokenize_API()\n",
    "\n",
    "# from nltk.stem.porter import PorterStemmer\n",
    "# from nltk.stem.wordnet import WordNetLemmatizer\n",
    "# nlp_custom_tokenizer = nltk_NLP(stemming=PorterStemmer, lemmatisation=WordNetLemmatizer).custom_API()\n",
    "\n",
    "text_prep = lambda text: text_preprocess(text, tokenizer=spacy_tokenizer, stopwords=STOP_WORDS)"
   ]
  },
  {
   "cell_type": "markdown",
   "metadata": {},
   "source": [
    "### Create Corpus from dataset\n",
    "Save the corpus as pickle file to save time in the future; Load the pickle file"
   ]
  },
  {
   "cell_type": "code",
   "execution_count": null,
   "metadata": {},
   "outputs": [],
   "source": [
    "from tqdm import tqdm\n",
    "\n",
    "corpus = [\n",
    "    text_prep(text)\n",
    "    for text in tqdm(list(data['title'] + ' ' + data['abstract'] + ' ' + data['text']))\n",
    "]\n",
    "\n",
    "filename = '_'.join(folder.split('/'))\n",
    "folder = 'processed_data'\n",
    "\n",
    "from os.path import isdir\n",
    "from os import mkdir\n",
    "if not isdir(f'./{folder}'): mkdir(f'./{folder}') # Create folder if it does not exist\n",
    "\n",
    "import pickle\n",
    "with open(f'{folder}/{filename}_corpus.pkl', 'wb') as output:\n",
    "    pickle.dump(corpus, output)"
   ]
  },
  {
   "cell_type": "markdown",
   "metadata": {},
   "source": [
    "### Load Corpus from Pickle"
   ]
  },
  {
   "cell_type": "code",
   "execution_count": 3,
   "metadata": {},
   "outputs": [],
   "source": [
    "import pickle\n",
    "folder = 'processed_data'\n",
    "filename = 'raw_data_comm_use_subset_corpus'\n",
    "with open(f'./{folder}/{filename}.pkl', 'rb') as f:\n",
    "    corpus = pickle.load(f) "
   ]
  },
  {
   "cell_type": "markdown",
   "metadata": {},
   "source": [
    "### Conduct TF-IDF using custom functions"
   ]
  },
  {
   "cell_type": "code",
   "execution_count": null,
   "metadata": {},
   "outputs": [],
   "source": [
    "%%time\n",
    "from src.tf_idf import TFIDF\n",
    "\n",
    "tdidf = TFIDF()\n",
    "tdidf.tfidf_corpus(corpus)"
   ]
  },
  {
   "cell_type": "code",
   "execution_count": null,
   "metadata": {},
   "outputs": [],
   "source": [
    "'''\n",
    "    corpus_doc_tf_idf: list of td-idf scores (terms: score) of each documents\n",
    "    score:\n",
    "        Low = frequent terms\n",
    "        High = rare terms\n",
    "'''\n",
    "tdidf.corpus_doc_tfidf[:1]"
   ]
  },
  {
   "cell_type": "code",
   "execution_count": null,
   "metadata": {},
   "outputs": [],
   "source": [
    "'''\n",
    "    term_doc_freq: a dict (key: value pairs) of a term and it's count of occurrence in different documents\n",
    "'''\n",
    "tdidf.term_doc_freq"
   ]
  },
  {
   "cell_type": "code",
   "execution_count": null,
   "metadata": {},
   "outputs": [],
   "source": [
    "text = corpus[0]\n",
    "print(text)\n",
    "\n",
    "tdidf.get_text_keywords(text, 10)"
   ]
  },
  {
   "cell_type": "code",
   "execution_count": null,
   "metadata": {},
   "outputs": [],
   "source": [
    "question = \"Is the virus transmitted by aerisol, droplets, food, close contact, fecal matter, or water\"\n",
    "\n",
    "tdidf.get_text_keywords(text_prep(question), 10)"
   ]
  },
  {
   "cell_type": "markdown",
   "metadata": {},
   "source": [
    "### Conduct TF-IDF using sklearn functions"
   ]
  },
  {
   "cell_type": "code",
   "execution_count": 4,
   "metadata": {},
   "outputs": [
    {
     "name": "stdout",
     "output_type": "stream",
     "text": [
      "Wall time: 16.4 s\n"
     ]
    }
   ],
   "source": [
    "%%time\n",
    "from src.tf_idf import sklearn_TFIDF\n",
    "from sklearn.feature_extraction.text import CountVectorizer, TfidfTransformer\n",
    "\n",
    "sk_tfidf = sklearn_TFIDF()\n",
    "sk_tfidf.tfidf_corpus(corpus)"
   ]
  },
  {
   "cell_type": "code",
   "execution_count": null,
   "metadata": {},
   "outputs": [],
   "source": [
    "text = corpus[0]\n",
    "print(text)\n",
    "\n",
    "sk_tfidf.get_text_keywords(text, 10)"
   ]
  },
  {
   "cell_type": "code",
   "execution_count": null,
   "metadata": {},
   "outputs": [],
   "source": [
    "question = \"Is the virus transmitted by aerisol, droplets, food, close contact, fecal matter, or water\"\n",
    "\n",
    "sk_tfidf.get_text_keywords(text_prep(question))"
   ]
  },
  {
   "cell_type": "markdown",
   "metadata": {},
   "source": [
    "### Get keywords for each document\n",
    "using sklearn's"
   ]
  },
  {
   "cell_type": "code",
   "execution_count": 5,
   "metadata": {},
   "outputs": [
    {
     "name": "stderr",
     "output_type": "stream",
     "text": [
      "c:\\venv\\lib\\site-packages\\tqdm\\std.py:666: FutureWarning: The Panel class is removed from pandas. Accessing it from the top-level namespace will also be removed in the next version\n",
      "  from pandas import Panel\n",
      "100%|█████████████████████████████████████████████████████████████████████████████| 9315/9315 [00:38<00:00, 241.09it/s]\n"
     ]
    }
   ],
   "source": [
    "data = data.reindex(columns=list(data.columns)+['keywords'])\n",
    "\n",
    "import pandas as pd\n",
    "from tqdm import tqdm\n",
    "tqdm.pandas()\n",
    "data['keywords'] = pd.Series(corpus).progress_apply(\n",
    "    lambda doc: sk_tfidf.get_text_keywords(doc)\n",
    ")"
   ]
  },
  {
   "cell_type": "markdown",
   "metadata": {},
   "source": [
    "### BM25"
   ]
  },
  {
   "cell_type": "code",
   "execution_count": 8,
   "metadata": {},
   "outputs": [
    {
     "name": "stdout",
     "output_type": "stream",
     "text": [
      "The query is: coronavirus origin\n"
     ]
    },
    {
     "data": {
      "text/html": [
       "<div>\n",
       "<style scoped>\n",
       "    .dataframe tbody tr th:only-of-type {\n",
       "        vertical-align: middle;\n",
       "    }\n",
       "\n",
       "    .dataframe tbody tr th {\n",
       "        vertical-align: top;\n",
       "    }\n",
       "\n",
       "    .dataframe thead th {\n",
       "        text-align: right;\n",
       "    }\n",
       "</style>\n",
       "<table border=\"1\" class=\"dataframe\">\n",
       "  <thead>\n",
       "    <tr style=\"text-align: right;\">\n",
       "      <th></th>\n",
       "      <th>Score</th>\n",
       "    </tr>\n",
       "  </thead>\n",
       "  <tbody>\n",
       "    <tr>\n",
       "      <th>Bat origin of human coronaviruses</th>\n",
       "      <td>15.093743</td>\n",
       "    </tr>\n",
       "    <tr>\n",
       "      <th>Identification and Characterization of a Novel Alpaca Respiratory Coronavirus Most Closely Related to the Human Coronavirus 229E</th>\n",
       "      <td>13.851795</td>\n",
       "    </tr>\n",
       "    <tr>\n",
       "      <th>Novel algorithm for accelerated electroanatomic mapping and prediction of earliest activation of focal cardiac arrhythmias using mathematical optimization</th>\n",
       "      <td>7.648872</td>\n",
       "    </tr>\n",
       "    <tr>\n",
       "      <th>Modelling input-output flows of severe acute respiratory syndrome in mainland China</th>\n",
       "      <td>6.174830</td>\n",
       "    </tr>\n",
       "    <tr>\n",
       "      <th>Cryo-EM structure of infectious bronchitis coronavirus spike protein reveals structural and functional evolution of coronavirus spike proteins</th>\n",
       "      <td>4.770482</td>\n",
       "    </tr>\n",
       "    <tr>\n",
       "      <th>Complete genome analysis of canine respiratory coronavirus</th>\n",
       "      <td>4.157596</td>\n",
       "    </tr>\n",
       "    <tr>\n",
       "      <th>Isolation and characterization of avian coronavirus from healthy Eclectus parrots (Eclectus roratus) from Indonesia</th>\n",
       "      <td>3.959852</td>\n",
       "    </tr>\n",
       "    <tr>\n",
       "      <th>SCIENCE CHINA SPECIAL TOPIC: Haunted with and hunting for viruses A novel human coronavirus: Middle East respiratory syndrome human coronavirus</th>\n",
       "      <td>3.456860</td>\n",
       "    </tr>\n",
       "    <tr>\n",
       "      <th>Phylogenetic investigation of enteric bovine coronavirus in Ireland reveals partitioning between European and global strains</th>\n",
       "      <td>3.281272</td>\n",
       "    </tr>\n",
       "    <tr>\n",
       "      <th>Molecular evidence for the evolution of ichnoviruses from ascoviruses by symbiogenesis</th>\n",
       "      <td>3.031386</td>\n",
       "    </tr>\n",
       "  </tbody>\n",
       "</table>\n",
       "</div>"
      ],
      "text/plain": [
       "                                                        Score\n",
       "Bat origin of human coronaviruses                   15.093743\n",
       "Identification and Characterization of a Novel ...  13.851795\n",
       "Novel algorithm for accelerated electroanatomic...   7.648872\n",
       "Modelling input-output flows of severe acute re...   6.174830\n",
       "Cryo-EM structure of infectious bronchitis coro...   4.770482\n",
       "Complete genome analysis of canine respiratory ...   4.157596\n",
       "Isolation and characterization of avian coronav...   3.959852\n",
       "SCIENCE CHINA SPECIAL TOPIC: Haunted with and h...   3.456860\n",
       "Phylogenetic investigation of enteric bovine co...   3.281272\n",
       "Molecular evidence for the evolution of ichnovi...   3.031386"
      ]
     },
     "metadata": {},
     "output_type": "display_data"
    },
    {
     "name": "stdout",
     "output_type": "stream",
     "text": [
      "The query is: coronavirus response to weather changes\n"
     ]
    },
    {
     "data": {
      "text/html": [
       "<div>\n",
       "<style scoped>\n",
       "    .dataframe tbody tr th:only-of-type {\n",
       "        vertical-align: middle;\n",
       "    }\n",
       "\n",
       "    .dataframe tbody tr th {\n",
       "        vertical-align: top;\n",
       "    }\n",
       "\n",
       "    .dataframe thead th {\n",
       "        text-align: right;\n",
       "    }\n",
       "</style>\n",
       "<table border=\"1\" class=\"dataframe\">\n",
       "  <thead>\n",
       "    <tr style=\"text-align: right;\">\n",
       "      <th></th>\n",
       "      <th>Score</th>\n",
       "    </tr>\n",
       "  </thead>\n",
       "  <tbody>\n",
       "    <tr>\n",
       "      <th>Pathogen seasonality and links with weather in England and Wales: a big data time series analysis</th>\n",
       "      <td>93.729419</td>\n",
       "    </tr>\n",
       "    <tr>\n",
       "      <th>Challenges in developing methods for quantifying the effects of weather and climate on water-associated diseases: A systematic review</th>\n",
       "      <td>56.138194</td>\n",
       "    </tr>\n",
       "    <tr>\n",
       "      <th>A case-crossover analysis of the impact of weather on primary cases of Middle East respiratory syndrome</th>\n",
       "      <td>43.226082</td>\n",
       "    </tr>\n",
       "    <tr>\n",
       "      <th>Short Term Effects of Weather on Hand, Foot and Mouth Disease</th>\n",
       "      <td>42.016031</td>\n",
       "    </tr>\n",
       "    <tr>\n",
       "      <th>Directional and reoccurring sequence change in zoonotic RNA virus genomes visualized by time- series word count OPEN</th>\n",
       "      <td>32.464706</td>\n",
       "    </tr>\n",
       "    <tr>\n",
       "      <th>One Health Á a strategy for resilience in a changing arctic</th>\n",
       "      <td>31.394139</td>\n",
       "    </tr>\n",
       "    <tr>\n",
       "      <th>Regulation of Immunogen Processing: Signal Sequences and Their Application for the New Generation of DNA-Vaccines</th>\n",
       "      <td>29.439184</td>\n",
       "    </tr>\n",
       "    <tr>\n",
       "      <th>Estimating the Economic Impact of Climate Change on Cardiovascular Diseases-Evidence from Taiwan</th>\n",
       "      <td>26.905581</td>\n",
       "    </tr>\n",
       "    <tr>\n",
       "      <th>The rise and fall of infectious disease in a warmer world [version 1; referees: 2 approved]</th>\n",
       "      <td>22.660624</td>\n",
       "    </tr>\n",
       "    <tr>\n",
       "      <th>Changes in temperature alter the potential outcomes of virus host shifts</th>\n",
       "      <td>21.631010</td>\n",
       "    </tr>\n",
       "  </tbody>\n",
       "</table>\n",
       "</div>"
      ],
      "text/plain": [
       "                                                        Score\n",
       "Pathogen seasonality and links with weather in ...  93.729419\n",
       "Challenges in developing methods for quantifyin...  56.138194\n",
       "A case-crossover analysis of the impact of weat...  43.226082\n",
       "Short Term Effects of Weather on Hand, Foot and...  42.016031\n",
       "Directional and reoccurring sequence change in ...  32.464706\n",
       "One Health Á a strategy for resilience in a cha...  31.394139\n",
       "Regulation of Immunogen Processing: Signal Sequ...  29.439184\n",
       "Estimating the Economic Impact of Climate Chang...  26.905581\n",
       "The rise and fall of infectious disease in a wa...  22.660624\n",
       "Changes in temperature alter the potential outc...  21.631010"
      ]
     },
     "metadata": {},
     "output_type": "display_data"
    },
    {
     "name": "stdout",
     "output_type": "stream",
     "text": [
      "The query is: coronavirus immunity\n"
     ]
    },
    {
     "data": {
      "text/html": [
       "<div>\n",
       "<style scoped>\n",
       "    .dataframe tbody tr th:only-of-type {\n",
       "        vertical-align: middle;\n",
       "    }\n",
       "\n",
       "    .dataframe tbody tr th {\n",
       "        vertical-align: top;\n",
       "    }\n",
       "\n",
       "    .dataframe thead th {\n",
       "        text-align: right;\n",
       "    }\n",
       "</style>\n",
       "<table border=\"1\" class=\"dataframe\">\n",
       "  <thead>\n",
       "    <tr style=\"text-align: right;\">\n",
       "      <th></th>\n",
       "      <th>Score</th>\n",
       "    </tr>\n",
       "  </thead>\n",
       "  <tbody>\n",
       "    <tr>\n",
       "      <th>Curating the innate immunity interactome</th>\n",
       "      <td>6.078533</td>\n",
       "    </tr>\n",
       "    <tr>\n",
       "      <th>Prolonging herd immunity to cholera via vaccination: Accounting for human mobility and waning vaccine effects</th>\n",
       "      <td>3.944526</td>\n",
       "    </tr>\n",
       "    <tr>\n",
       "      <th>innate immunity to Respiratory infection in early Life</th>\n",
       "      <td>3.021976</td>\n",
       "    </tr>\n",
       "    <tr>\n",
       "      <th>Impact of Preexisting Adenovirus Vector Immunity on Immunogenicity and Protection Conferred with an Adenovirus-Based H5N1 Influenza Vaccine</th>\n",
       "      <td>2.957018</td>\n",
       "    </tr>\n",
       "    <tr>\n",
       "      <th>Nasal Delivery of an Adenovirus-Based Vaccine Bypasses Pre-Existing Immunity to the Vaccine Carrier and Improves the Immune Response in Mice</th>\n",
       "      <td>2.946935</td>\n",
       "    </tr>\n",
       "    <tr>\n",
       "      <th>Egyptian rousette bats maintain long-term protective immunity against Marburg virus infection despite diminished antibody levels OPEN</th>\n",
       "      <td>2.912944</td>\n",
       "    </tr>\n",
       "    <tr>\n",
       "      <th>Pre-existing immunity against vaccine vectors - friend or foe?</th>\n",
       "      <td>2.892225</td>\n",
       "    </tr>\n",
       "    <tr>\n",
       "      <th>cells Interplay between Intrinsic and Innate Immunity during HIV Infection</th>\n",
       "      <td>2.447426</td>\n",
       "    </tr>\n",
       "    <tr>\n",
       "      <th>Cryo-EM structure of infectious bronchitis coronavirus spike protein reveals structural and functional evolution of coronavirus spike proteins</th>\n",
       "      <td>2.338074</td>\n",
       "    </tr>\n",
       "    <tr>\n",
       "      <th>Complete genome analysis of canine respiratory coronavirus</th>\n",
       "      <td>2.288797</td>\n",
       "    </tr>\n",
       "  </tbody>\n",
       "</table>\n",
       "</div>"
      ],
      "text/plain": [
       "                                                       Score\n",
       "Curating the innate immunity interactome            6.078533\n",
       "Prolonging herd immunity to cholera via vaccina...  3.944526\n",
       "innate immunity to Respiratory infection in ear...  3.021976\n",
       "Impact of Preexisting Adenovirus Vector Immunit...  2.957018\n",
       "Nasal Delivery of an Adenovirus-Based Vaccine B...  2.946935\n",
       "Egyptian rousette bats maintain long-term prote...  2.912944\n",
       "Pre-existing immunity against vaccine vectors -...  2.892225\n",
       "cells Interplay between Intrinsic and Innate Im...  2.447426\n",
       "Cryo-EM structure of infectious bronchitis coro...  2.338074\n",
       "Complete genome analysis of canine respiratory ...  2.288797"
      ]
     },
     "metadata": {},
     "output_type": "display_data"
    }
   ],
   "source": [
    "queries = [\n",
    "    'coronavirus origin',\n",
    "    'coronavirus response to weather changes',\n",
    "    'coronavirus immunity'\n",
    "]\n",
    "from src.helper import sort_dict\n",
    "from src.covid_19_BM25 import query_bm25\n",
    "\n",
    "from IPython.display import display\n",
    "\n",
    "for query in queries:\n",
    "    print(f'The query is: {query}')\n",
    "    \n",
    "    result = query_bm25(\n",
    "        text_prep(query).split(),\n",
    "        data\n",
    "    )\n",
    "    display(result)"
   ]
  }
 ],
 "metadata": {
  "kernelspec": {
   "display_name": "Python 3",
   "language": "python",
   "name": "python3"
  },
  "language_info": {
   "codemirror_mode": {
    "name": "ipython",
    "version": 3
   },
   "file_extension": ".py",
   "mimetype": "text/x-python",
   "name": "python",
   "nbconvert_exporter": "python",
   "pygments_lexer": "ipython3",
   "version": "3.7.6"
  }
 },
 "nbformat": 4,
 "nbformat_minor": 4
}
